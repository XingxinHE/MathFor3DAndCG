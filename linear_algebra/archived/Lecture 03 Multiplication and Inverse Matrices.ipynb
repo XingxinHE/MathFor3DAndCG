{
 "cells": [
  {
   "cell_type": "markdown",
   "metadata": {},
   "source": [
    "# Lecture 03 Multiplication and Inverse Matrices"
   ]
  },
  {
   "cell_type": "markdown",
   "metadata": {},
   "source": [
    "Today's lecture includes:\n",
    "1. Matrix Multiplication (4 ways)\n",
    "2. Inverse of $A, AB, A^{T}$\n",
    "3. Gauss-Jordan / Find $A^{-1}$"
   ]
  },
  {
   "cell_type": "markdown",
   "metadata": {},
   "source": [
    "## Matrix Multiplication\n",
    "### 1.1 First method\n",
    "\n",
    "We first take a look on this matrix:\n",
    "\\begin{align}\n",
    "\\begin{matrix}-&-&-\\\\-&-&-&\\end{matrix} × \\begin{matrix}-&-\\\\-&-\\\\-&-\\end{matrix} = \\begin{matrix}-&-\\\\-&-\\end{matrix}\n",
    "\\end{align}\n",
    "* 行列内积：有$m\\times n$矩阵$A$和$n\\times p$矩阵$B$（$A$的总行数必须与$B$的总列数相等），两矩阵相乘有$AB=C$，$C$是一个$m\\times p$矩阵，对于$C$矩阵中的第$i$行第$j$列元素$c_{ij}$，有：\n",
    "\n",
    "    $$c_{ij}=row_i\\cdot column_j=\\sum_{k=i}^na_{ik}b_{kj}$$\n",
    "\n",
    "    其中$a_{ik}$是$A$矩阵的第$i$行第$k$列元素，$b_{kj}$是$B$矩阵的第$k$行第$j$列元素。\n",
    "\n",
    "    可以看出$c_{ij}$其实是$A$矩阵第$i$行点乘$B$矩阵第$j$列 $\\begin{bmatrix}&\\vdots&\\\\&row_i&\\\\&\\vdots&\\end{bmatrix}\\begin{bmatrix}&&\\\\\\cdots&column_j&\\cdots\\\\&&\\end{bmatrix}=\\begin{bmatrix}&\\vdots&\\\\\\cdots&c_{ij}&\\cdots\\\\&\\vdots&\\end{bmatrix}$"
   ]
  },
  {
   "cell_type": "code",
   "execution_count": null,
   "metadata": {},
   "outputs": [],
   "source": []
  }
 ],
 "metadata": {
  "kernelspec": {
   "display_name": "Python 3",
   "language": "python",
   "name": "python3"
  },
  "language_info": {
   "codemirror_mode": {
    "name": "ipython",
    "version": 3
   },
   "file_extension": ".py",
   "mimetype": "text/x-python",
   "name": "python",
   "nbconvert_exporter": "python",
   "pygments_lexer": "ipython3",
   "version": "3.7.6"
  }
 },
 "nbformat": 4,
 "nbformat_minor": 4
}
